{
 "cells": [
  {
   "cell_type": "code",
   "execution_count": 1,
   "metadata": {},
   "outputs": [
    {
     "data": {
      "text/plain": [
       "(LanceTable(name='all_document_types', version=172, _conn=LanceDBConnection(uri='/home/devuser/code/TAIC_smart_assistant/working_files/../workbench/prod-vectordb')),\n",
       " [{'version': 158,\n",
       "   'timestamp': datetime.datetime(2025, 9, 19, 23, 48, 53, 563884),\n",
       "   'metadata': {}},\n",
       "  {'version': 159,\n",
       "   'timestamp': datetime.datetime(2025, 9, 19, 23, 50, 30, 12189),\n",
       "   'metadata': {}},\n",
       "  {'version': 160,\n",
       "   'timestamp': datetime.datetime(2025, 9, 19, 23, 51, 17, 634987),\n",
       "   'metadata': {}},\n",
       "  {'version': 161,\n",
       "   'timestamp': datetime.datetime(2025, 9, 20, 0, 31, 27, 161482),\n",
       "   'metadata': {}},\n",
       "  {'version': 162,\n",
       "   'timestamp': datetime.datetime(2025, 9, 20, 0, 31, 27, 473496),\n",
       "   'metadata': {}},\n",
       "  {'version': 163,\n",
       "   'timestamp': datetime.datetime(2025, 9, 20, 0, 31, 43, 443343),\n",
       "   'metadata': {}},\n",
       "  {'version': 164,\n",
       "   'timestamp': datetime.datetime(2025, 9, 20, 0, 31, 49, 1565),\n",
       "   'metadata': {}},\n",
       "  {'version': 165,\n",
       "   'timestamp': datetime.datetime(2025, 9, 20, 0, 31, 49, 329009),\n",
       "   'metadata': {}},\n",
       "  {'version': 166,\n",
       "   'timestamp': datetime.datetime(2025, 9, 20, 0, 31, 49, 547736),\n",
       "   'metadata': {}},\n",
       "  {'version': 167,\n",
       "   'timestamp': datetime.datetime(2025, 9, 20, 0, 31, 58, 479277),\n",
       "   'metadata': {}},\n",
       "  {'version': 168,\n",
       "   'timestamp': datetime.datetime(2025, 9, 20, 0, 31, 58, 514027),\n",
       "   'metadata': {}},\n",
       "  {'version': 169,\n",
       "   'timestamp': datetime.datetime(2025, 9, 20, 0, 32, 24, 853623),\n",
       "   'metadata': {}},\n",
       "  {'version': 170,\n",
       "   'timestamp': datetime.datetime(2025, 9, 20, 0, 57, 55, 577859),\n",
       "   'metadata': {}},\n",
       "  {'version': 171,\n",
       "   'timestamp': datetime.datetime(2025, 9, 20, 1, 29, 33, 779210),\n",
       "   'metadata': {}},\n",
       "  {'version': 172,\n",
       "   'timestamp': datetime.datetime(2025, 9, 20, 4, 39, 55, 639944),\n",
       "   'metadata': {}}])"
      ]
     },
     "execution_count": 1,
     "metadata": {},
     "output_type": "execute_result"
    }
   ],
   "source": [
    "import pandas as pd\n",
    "import lancedb\n",
    "import dotenv\n",
    "import os\n",
    "from datetime import timedelta\n",
    "\n",
    "dotenv.load_dotenv(override=True)\n",
    "\n",
    "\n",
    "db = lancedb.connect(\"az://vectordb/prod\")\n",
    "db = lancedb.connect(\"../workbench/prod-vectordb\")\n",
    "\n",
    "table = db.open_table(\"all_document_types\")\n",
    "\n",
    "table, table.list_versions()"
   ]
  },
  {
   "cell_type": "code",
   "execution_count": 5,
   "metadata": {},
   "outputs": [
    {
     "data": {
      "text/plain": [
       "107360"
      ]
     },
     "execution_count": 5,
     "metadata": {},
     "output_type": "execute_result"
    }
   ],
   "source": [
    "table.count_rows()"
   ]
  },
  {
   "cell_type": "code",
   "execution_count": 3,
   "metadata": {},
   "outputs": [
    {
     "data": {
      "text/plain": [
       "document_type\n",
       "section           35698\n",
       "safety_issue       2695\n",
       "recommendation      156\n",
       "Name: count, dtype: int64"
      ]
     },
     "execution_count": 3,
     "metadata": {},
     "output_type": "execute_result"
    }
   ],
   "source": [
    "res = table.search().where(\"agency == 'TSB'\").to_pandas()\n",
    "\n",
    "res.value_counts(\"document_type\")"
   ]
  }
 ],
 "metadata": {
  "kernelspec": {
   "display_name": "taic-smart-tools (3.10.12)",
   "language": "python",
   "name": "python3"
  },
  "language_info": {
   "codemirror_mode": {
    "name": "ipython",
    "version": 3
   },
   "file_extension": ".py",
   "mimetype": "text/x-python",
   "name": "python",
   "nbconvert_exporter": "python",
   "pygments_lexer": "ipython3",
   "version": "3.10.12"
  }
 },
 "nbformat": 4,
 "nbformat_minor": 2
}
