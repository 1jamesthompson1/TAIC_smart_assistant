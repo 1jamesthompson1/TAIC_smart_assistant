{
 "cells": [
  {
   "cell_type": "code",
   "execution_count": 15,
   "metadata": {},
   "outputs": [
    {
     "data": {
      "text/plain": [
       "283379"
      ]
     },
     "execution_count": 15,
     "metadata": {},
     "output_type": "execute_result"
    }
   ],
   "source": [
    "import pandas as pd\n",
    "import lancedb\n",
    "import dotenv\n",
    "import os\n",
    "from datetime import timedelta\n",
    "\n",
    "dotenv.load_dotenv()\n",
    "\n",
    "\n",
    "db = lancedb.connect(os.environ.get(\"VECTORDB_PATH\"))\n",
    "\n",
    "table = db.open_table(\"all_document_types\")\n",
    "\n",
    "table.count_rows()"
   ]
  },
  {
   "cell_type": "code",
   "execution_count": 16,
   "metadata": {},
   "outputs": [
    {
     "data": {
      "text/plain": [
       "CleanupStats { bytes_removed: 1327, old_versions: 2 }"
      ]
     },
     "execution_count": 16,
     "metadata": {},
     "output_type": "execute_result"
    }
   ],
   "source": [
    "table.cleanup_old_versions(older_than=timedelta(days=1))"
   ]
  },
  {
   "cell_type": "code",
   "execution_count": 20,
   "metadata": {},
   "outputs": [
    {
     "ename": "AssertionError",
     "evalue": "Synchronous method called in asynchronous context. If you are writing an asynchronous application then please use the asynchronous APIs",
     "output_type": "error",
     "traceback": [
      "\u001b[0;31m---------------------------------------------------------------------------\u001b[0m",
      "\u001b[0;31mAssertionError\u001b[0m                            Traceback (most recent call last)",
      "Cell \u001b[0;32mIn[20], line 1\u001b[0m\n\u001b[0;32m----> 1\u001b[0m \u001b[38;5;28;01mawait\u001b[39;00m \u001b[43mtable\u001b[49m\u001b[38;5;241;43m.\u001b[39;49m\u001b[43moptimize\u001b[49m\u001b[43m(\u001b[49m\u001b[43m)\u001b[49m\n",
      "File \u001b[0;32m~/.cache/pypoetry/virtualenvs/taic_smart_assistant--RNY-CqQ-py3.11/lib/python3.11/site-packages/lancedb/table.py:2092\u001b[0m, in \u001b[0;36mLanceTable.optimize\u001b[0;34m(self, cleanup_older_than, delete_unverified)\u001b[0m\n\u001b[1;32m   2090\u001b[0m \u001b[38;5;28;01mtry\u001b[39;00m:\n\u001b[1;32m   2091\u001b[0m     asyncio\u001b[38;5;241m.\u001b[39mget_running_loop()\n\u001b[0;32m-> 2092\u001b[0m     \u001b[38;5;28;01mraise\u001b[39;00m \u001b[38;5;167;01mAssertionError\u001b[39;00m(\n\u001b[1;32m   2093\u001b[0m         \u001b[38;5;124m\"\u001b[39m\u001b[38;5;124mSynchronous method called in asynchronous context. \u001b[39m\u001b[38;5;124m\"\u001b[39m\n\u001b[1;32m   2094\u001b[0m         \u001b[38;5;124m\"\u001b[39m\u001b[38;5;124mIf you are writing an asynchronous application \u001b[39m\u001b[38;5;124m\"\u001b[39m\n\u001b[1;32m   2095\u001b[0m         \u001b[38;5;124m\"\u001b[39m\u001b[38;5;124mthen please use the asynchronous APIs\u001b[39m\u001b[38;5;124m\"\u001b[39m\n\u001b[1;32m   2096\u001b[0m     )\n\u001b[1;32m   2098\u001b[0m \u001b[38;5;28;01mexcept\u001b[39;00m \u001b[38;5;167;01mRuntimeError\u001b[39;00m:\n\u001b[1;32m   2099\u001b[0m     asyncio\u001b[38;5;241m.\u001b[39mrun(\n\u001b[1;32m   2100\u001b[0m         \u001b[38;5;28mself\u001b[39m\u001b[38;5;241m.\u001b[39m_async_optimize(\n\u001b[1;32m   2101\u001b[0m             cleanup_older_than\u001b[38;5;241m=\u001b[39mcleanup_older_than,\n\u001b[1;32m   2102\u001b[0m             delete_unverified\u001b[38;5;241m=\u001b[39mdelete_unverified,\n\u001b[1;32m   2103\u001b[0m         )\n\u001b[1;32m   2104\u001b[0m     )\n",
      "\u001b[0;31mAssertionError\u001b[0m: Synchronous method called in asynchronous context. If you are writing an asynchronous application then please use the asynchronous APIs"
     ]
    }
   ],
   "source": [
    "await table.optimize()"
   ]
  }
 ],
 "metadata": {
  "kernelspec": {
   "display_name": "taic_smart_assistant--RNY-CqQ-py3.11",
   "language": "python",
   "name": "python3"
  },
  "language_info": {
   "codemirror_mode": {
    "name": "ipython",
    "version": 3
   },
   "file_extension": ".py",
   "mimetype": "text/x-python",
   "name": "python",
   "nbconvert_exporter": "python",
   "pygments_lexer": "ipython3",
   "version": "3.11.5"
  }
 },
 "nbformat": 4,
 "nbformat_minor": 2
}
